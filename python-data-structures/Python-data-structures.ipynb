{
 "cells": [
  {
   "cell_type": "markdown",
   "id": "aaad4c87",
   "metadata": {},
   "source": [
    "## Python Data Stuctures"
   ]
  },
  {
   "cell_type": "markdown",
   "id": "11b1b107",
   "metadata": {},
   "source": [
    "## Why Python Built-in Data Structures?\n",
    "* to colect multiple data in structures.\n",
    "\n",
    "### 4 Data structures in Python\n",
    "1. List\n",
    "2. Sets\n",
    "3. Tuples\n",
    "4. Dictionary - key & Value\n",
    "\n"
   ]
  },
  {
   "cell_type": "markdown",
   "id": "ed1575d9",
   "metadata": {},
   "source": [
    "## 1. LIst\n",
    "#### \n",
    "* 1D\n",
    "* Heterogenous\n",
    "* Duplicate Values\n",
    "* Indexing &b Slicing is possible\n",
    "* Mutable"
   ]
  },
  {
   "cell_type": "code",
   "execution_count": 20,
   "id": "475bf5b6",
   "metadata": {},
   "outputs": [
    {
     "data": {
      "text/plain": [
       "(67, 78, 10, 100, 80)"
      ]
     },
     "execution_count": 20,
     "metadata": {},
     "output_type": "execute_result"
    }
   ],
   "source": [
    "67,78,10,100,80"
   ]
  },
  {
   "cell_type": "code",
   "execution_count": 21,
   "id": "d3b87b17",
   "metadata": {},
   "outputs": [],
   "source": [
    "students_mark = 67,78,10,100,80"
   ]
  },
  {
   "cell_type": "code",
   "execution_count": 22,
   "id": "ddfbd051",
   "metadata": {},
   "outputs": [
    {
     "data": {
      "text/plain": [
       "tuple"
      ]
     },
     "execution_count": 22,
     "metadata": {},
     "output_type": "execute_result"
    }
   ],
   "source": [
    "type(students_mark)"
   ]
  },
  {
   "cell_type": "code",
   "execution_count": 23,
   "id": "762830a0",
   "metadata": {},
   "outputs": [],
   "source": [
    "empty_cart = []"
   ]
  },
  {
   "cell_type": "code",
   "execution_count": 24,
   "id": "c22c84e4",
   "metadata": {},
   "outputs": [
    {
     "data": {
      "text/plain": [
       "[]"
      ]
     },
     "execution_count": 24,
     "metadata": {},
     "output_type": "execute_result"
    }
   ],
   "source": [
    "empty_cart"
   ]
  },
  {
   "cell_type": "code",
   "execution_count": 25,
   "id": "7f58407e",
   "metadata": {},
   "outputs": [
    {
     "data": {
      "text/plain": [
       "list"
      ]
     },
     "execution_count": 25,
     "metadata": {},
     "output_type": "execute_result"
    }
   ],
   "source": [
    "type (empty_cart)"
   ]
  },
  {
   "cell_type": "code",
   "execution_count": 26,
   "id": "b0c7d828",
   "metadata": {},
   "outputs": [
    {
     "data": {
      "text/plain": [
       "['Apple', 'Orange', 'Grapes', 'Pomgrante']"
      ]
     },
     "execution_count": 26,
     "metadata": {},
     "output_type": "execute_result"
    }
   ],
   "source": [
    "items_to_buy = ['Apple', 'Orange', 'Grapes', 'Pomgrante']\n",
    "items_to_buy"
   ]
  },
  {
   "cell_type": "code",
   "execution_count": 27,
   "id": "c36c4649",
   "metadata": {},
   "outputs": [
    {
     "data": {
      "text/plain": [
       "list"
      ]
     },
     "execution_count": 27,
     "metadata": {},
     "output_type": "execute_result"
    }
   ],
   "source": [
    "type(items_to_buy)"
   ]
  },
  {
   "cell_type": "code",
   "execution_count": 28,
   "id": "138fb658",
   "metadata": {},
   "outputs": [
    {
     "data": {
      "text/plain": [
       "['Apple', 'Orange', 'Grapes', 'Pomgrante', 'Apple', 6.75, 8, 9]"
      ]
     },
     "execution_count": 28,
     "metadata": {},
     "output_type": "execute_result"
    }
   ],
   "source": [
    "items_to_buy = ['Apple', 'Orange', 'Grapes', 'Pomgrante', 'Apple', 6.75, 8, 9]\n",
    "items_to_buy\n"
   ]
  },
  {
   "cell_type": "code",
   "execution_count": 29,
   "id": "f11feaa3",
   "metadata": {},
   "outputs": [
    {
     "data": {
      "text/plain": [
       "8"
      ]
     },
     "execution_count": 29,
     "metadata": {},
     "output_type": "execute_result"
    }
   ],
   "source": [
    "len(items_to_buy)"
   ]
  },
  {
   "cell_type": "code",
   "execution_count": 30,
   "id": "c22efbc8",
   "metadata": {},
   "outputs": [
    {
     "data": {
      "text/plain": [
       "'Apple'"
      ]
     },
     "execution_count": 30,
     "metadata": {},
     "output_type": "execute_result"
    }
   ],
   "source": [
    "items_to_buy [0]"
   ]
  },
  {
   "cell_type": "code",
   "execution_count": 31,
   "id": "be864bb0",
   "metadata": {},
   "outputs": [
    {
     "data": {
      "text/plain": [
       "9"
      ]
     },
     "execution_count": 31,
     "metadata": {},
     "output_type": "execute_result"
    }
   ],
   "source": [
    "items_to_buy[-1]"
   ]
  },
  {
   "cell_type": "code",
   "execution_count": 32,
   "id": "8a73b061",
   "metadata": {},
   "outputs": [
    {
     "data": {
      "text/plain": [
       "'Pomgrante'"
      ]
     },
     "execution_count": 32,
     "metadata": {},
     "output_type": "execute_result"
    }
   ],
   "source": [
    "items_to_buy[3] # Indexing"
   ]
  },
  {
   "cell_type": "code",
   "execution_count": 33,
   "id": "e6293d77",
   "metadata": {},
   "outputs": [
    {
     "data": {
      "text/plain": [
       "'Pomgrante'"
      ]
     },
     "execution_count": 33,
     "metadata": {},
     "output_type": "execute_result"
    }
   ],
   "source": [
    "items_to_buy[-5]"
   ]
  },
  {
   "cell_type": "code",
   "execution_count": 34,
   "id": "c9bcb598",
   "metadata": {},
   "outputs": [
    {
     "data": {
      "text/plain": [
       "['Apple', 'Orange']"
      ]
     },
     "execution_count": 34,
     "metadata": {},
     "output_type": "execute_result"
    }
   ],
   "source": [
    "items_to_buy[0:2]"
   ]
  },
  {
   "cell_type": "code",
   "execution_count": 35,
   "id": "09299b28",
   "metadata": {},
   "outputs": [
    {
     "data": {
      "text/plain": [
       "['Apple', 'Orange', 'Grapes']"
      ]
     },
     "execution_count": 35,
     "metadata": {},
     "output_type": "execute_result"
    }
   ],
   "source": [
    "items_to_buy[0:3]"
   ]
  },
  {
   "cell_type": "code",
   "execution_count": 36,
   "id": "35643c1b",
   "metadata": {},
   "outputs": [
    {
     "data": {
      "text/plain": [
       "['Apple', 'Orange', 'Grapes']"
      ]
     },
     "execution_count": 36,
     "metadata": {},
     "output_type": "execute_result"
    }
   ],
   "source": [
    "items_to_buy[:3]"
   ]
  },
  {
   "cell_type": "code",
   "execution_count": 37,
   "id": "ec6920d7",
   "metadata": {},
   "outputs": [
    {
     "data": {
      "text/plain": [
       "['Grapes', 'Pomgrante', 'Apple']"
      ]
     },
     "execution_count": 37,
     "metadata": {},
     "output_type": "execute_result"
    }
   ],
   "source": [
    "items_to_buy [2:5]"
   ]
  },
  {
   "cell_type": "code",
   "execution_count": 38,
   "id": "0e9ac102",
   "metadata": {},
   "outputs": [
    {
     "data": {
      "text/plain": [
       "['Grapes', 'Pomgrante', 'Apple']"
      ]
     },
     "execution_count": 38,
     "metadata": {},
     "output_type": "execute_result"
    }
   ],
   "source": [
    "items_to_buy[-6:-3]"
   ]
  },
  {
   "cell_type": "code",
   "execution_count": 39,
   "id": "97fd2cb7",
   "metadata": {},
   "outputs": [
    {
     "data": {
      "text/plain": [
       "['Apple', 'Orange', 'Grapes', 'Pomgrante', 'Apple', 6.75, 8, 9]"
      ]
     },
     "execution_count": 39,
     "metadata": {},
     "output_type": "execute_result"
    }
   ],
   "source": [
    "items_to_buy"
   ]
  },
  {
   "cell_type": "code",
   "execution_count": 40,
   "id": "0d22300a",
   "metadata": {},
   "outputs": [
    {
     "data": {
      "text/plain": [
       "['Apple', 'Watermelon', 'Grapes', 'Pomgrante', 'Apple', 6.75, 8, 9]"
      ]
     },
     "execution_count": 40,
     "metadata": {},
     "output_type": "execute_result"
    }
   ],
   "source": [
    "items_to_buy[1] = 'Watermelon'\n",
    "items_to_buy"
   ]
  },
  {
   "cell_type": "markdown",
   "id": "31316b58",
   "metadata": {},
   "source": [
    "## 2. Sets\n",
    "* 1D\n",
    "* Hetergoneous  \n",
    "* it wont't sllow duplicate values\n",
    "* Indexing and slicing not possible\n",
    "* Mutable"
   ]
  },
  {
   "cell_type": "code",
   "execution_count": 41,
   "id": "a4df3196",
   "metadata": {},
   "outputs": [],
   "source": [
    "empty_cart_2 = set ()"
   ]
  },
  {
   "cell_type": "code",
   "execution_count": 42,
   "id": "901ad940",
   "metadata": {},
   "outputs": [
    {
     "data": {
      "text/plain": [
       "set"
      ]
     },
     "execution_count": 42,
     "metadata": {},
     "output_type": "execute_result"
    }
   ],
   "source": [
    "type(empty_cart_2)"
   ]
  },
  {
   "cell_type": "code",
   "execution_count": 43,
   "id": "afbe63cf",
   "metadata": {},
   "outputs": [
    {
     "data": {
      "text/plain": [
       "{6.75, 8, 9, 'Apple', 'Grapes', 'Orange', 'Pomgrante'}"
      ]
     },
     "execution_count": 43,
     "metadata": {},
     "output_type": "execute_result"
    }
   ],
   "source": [
    "items_to_buy_2 = {'Apple', 'Orange', 'Grapes', 'Pomgrante', 'Apple', 6.75, 8, 9}\n",
    "items_to_buy_2\n"
   ]
  },
  {
   "cell_type": "code",
   "execution_count": 44,
   "id": "569bd278",
   "metadata": {},
   "outputs": [
    {
     "data": {
      "text/plain": [
       "set"
      ]
     },
     "execution_count": 44,
     "metadata": {},
     "output_type": "execute_result"
    }
   ],
   "source": [
    "type (empty_cart_2)"
   ]
  },
  {
   "cell_type": "code",
   "execution_count": 45,
   "id": "1607ff7a",
   "metadata": {},
   "outputs": [
    {
     "ename": "TypeError",
     "evalue": "'set' object is not subscriptable",
     "output_type": "error",
     "traceback": [
      "\u001b[1;31m---------------------------------------------------------------------------\u001b[0m",
      "\u001b[1;31mTypeError\u001b[0m                                 Traceback (most recent call last)",
      "Cell \u001b[1;32mIn[45], line 1\u001b[0m\n\u001b[1;32m----> 1\u001b[0m \u001b[43mitems_to_buy_2\u001b[49m\u001b[43m[\u001b[49m\u001b[38;5;241;43m1\u001b[39;49m\u001b[43m]\u001b[49m\n",
      "\u001b[1;31mTypeError\u001b[0m: 'set' object is not subscriptable"
     ]
    }
   ],
   "source": [
    "items_to_buy_2[1]"
   ]
  },
  {
   "cell_type": "code",
   "execution_count": null,
   "id": "3be7f3e0",
   "metadata": {},
   "outputs": [
    {
     "ename": "TypeError",
     "evalue": "'set' object is not subscriptable",
     "output_type": "error",
     "traceback": [
      "\u001b[1;31m---------------------------------------------------------------------------\u001b[0m",
      "\u001b[1;31mTypeError\u001b[0m                                 Traceback (most recent call last)",
      "Cell \u001b[1;32mIn[8], line 1\u001b[0m\n\u001b[1;32m----> 1\u001b[0m \u001b[43mitems_to_buy_2\u001b[49m\u001b[43m \u001b[49m\u001b[43m[\u001b[49m\u001b[38;5;241;43m0\u001b[39;49m\u001b[43m:\u001b[49m\u001b[38;5;241;43m2\u001b[39;49m\u001b[43m]\u001b[49m\n",
      "\u001b[1;31mTypeError\u001b[0m: 'set' object is not subscriptable"
     ]
    }
   ],
   "source": [
    "items_to_buy_2 [0:2]"
   ]
  },
  {
   "cell_type": "code",
   "execution_count": null,
   "id": "09bec37a",
   "metadata": {},
   "outputs": [
    {
     "ename": "SyntaxError",
     "evalue": "invalid syntax (3515812798.py, line 1)",
     "output_type": "error",
     "traceback": [
      "\u001b[1;36m  Cell \u001b[1;32mIn[9], line 1\u001b[1;36m\u001b[0m\n\u001b[1;33m    list.\u001b[0m\n\u001b[1;37m         ^\u001b[0m\n\u001b[1;31mSyntaxError\u001b[0m\u001b[1;31m:\u001b[0m invalid syntax\n"
     ]
    }
   ],
   "source": [
    "list."
   ]
  },
  {
   "cell_type": "code",
   "execution_count": null,
   "id": "7c5ffc44",
   "metadata": {},
   "outputs": [],
   "source": [
    "set."
   ]
  },
  {
   "cell_type": "code",
   "execution_count": null,
   "id": "ff4affca",
   "metadata": {},
   "outputs": [
    {
     "data": {
      "text/plain": [
       "{6.75, 8, 9, 'Apple', 'Grapes', 'Orange', 'Pomgrante'}"
      ]
     },
     "execution_count": 11,
     "metadata": {},
     "output_type": "execute_result"
    }
   ],
   "source": [
    "items_to_buy_2"
   ]
  },
  {
   "cell_type": "code",
   "execution_count": null,
   "id": "d9372b11",
   "metadata": {},
   "outputs": [],
   "source": [
    "items_to_buy_2.add('Banan')"
   ]
  },
  {
   "cell_type": "code",
   "execution_count": null,
   "id": "8d2b954f",
   "metadata": {},
   "outputs": [
    {
     "data": {
      "text/plain": [
       "{6.75, 8, 9, 'Apple', 'Banan', 'Grapes', 'Orange', 'Pomgrante'}"
      ]
     },
     "execution_count": 13,
     "metadata": {},
     "output_type": "execute_result"
    }
   ],
   "source": [
    "items_to_buy_2"
   ]
  },
  {
   "cell_type": "code",
   "execution_count": null,
   "id": "54b3897b",
   "metadata": {},
   "outputs": [],
   "source": [
    "items_to_buy_2.discard('Apple')"
   ]
  },
  {
   "cell_type": "code",
   "execution_count": null,
   "id": "a766fb1d",
   "metadata": {},
   "outputs": [
    {
     "data": {
      "text/plain": [
       "{6.75, 8, 9, 'Banan', 'Grapes', 'Orange', 'Pomgrante'}"
      ]
     },
     "execution_count": 15,
     "metadata": {},
     "output_type": "execute_result"
    }
   ],
   "source": [
    "items_to_buy_2"
   ]
  },
  {
   "cell_type": "code",
   "execution_count": null,
   "id": "068fa731",
   "metadata": {},
   "outputs": [],
   "source": [
    "items_to_buy.append('Red Banana')"
   ]
  },
  {
   "cell_type": "code",
   "execution_count": null,
   "id": "a76a89b9",
   "metadata": {},
   "outputs": [
    {
     "data": {
      "text/plain": [
       "['Apple',\n",
       " 'Watermelon',\n",
       " 'Grapes',\n",
       " 'Pomgrante',\n",
       " 'Apple',\n",
       " 6.75,\n",
       " 8,\n",
       " 9,\n",
       " 'Red Banana']"
      ]
     },
     "execution_count": 48,
     "metadata": {},
     "output_type": "execute_result"
    }
   ],
   "source": [
    "items_to_buy"
   ]
  },
  {
   "cell_type": "markdown",
   "id": "fd622996",
   "metadata": {},
   "source": [
    "## 3. Tuple\n",
    "* 1D\n",
    "* Heterogenous\n",
    "* Duplicate values is allowed\n",
    "* Indexing and slicing is also possible\n",
    "* Immutable"
   ]
  },
  {
   "cell_type": "code",
   "execution_count": null,
   "id": "ad95dfb2",
   "metadata": {},
   "outputs": [],
   "source": [
    "empty_cart_3 = ()"
   ]
  },
  {
   "cell_type": "code",
   "execution_count": null,
   "id": "04870bb4",
   "metadata": {},
   "outputs": [
    {
     "data": {
      "text/plain": [
       "tuple"
      ]
     },
     "execution_count": 50,
     "metadata": {},
     "output_type": "execute_result"
    }
   ],
   "source": [
    "type (empty_cart_3)"
   ]
  },
  {
   "cell_type": "code",
   "execution_count": null,
   "id": "aed8cd0b",
   "metadata": {},
   "outputs": [
    {
     "data": {
      "text/plain": [
       "('Apple', 'Orange', 'Grapes', 'Pomgrante', 'Apple', 6.75, 8, 9)"
      ]
     },
     "execution_count": 52,
     "metadata": {},
     "output_type": "execute_result"
    }
   ],
   "source": [
    "items_to_buy_3 = ('Apple', 'Orange', 'Grapes', 'Pomgrante', 'Apple', 6.75, 8, 9)\n",
    "items_to_buy_3"
   ]
  },
  {
   "cell_type": "code",
   "execution_count": null,
   "id": "d30b72b9",
   "metadata": {},
   "outputs": [
    {
     "data": {
      "text/plain": [
       "'Apple'"
      ]
     },
     "execution_count": 53,
     "metadata": {},
     "output_type": "execute_result"
    }
   ],
   "source": [
    "items_to_buy_3[0]"
   ]
  },
  {
   "cell_type": "code",
   "execution_count": null,
   "id": "22642021",
   "metadata": {},
   "outputs": [
    {
     "data": {
      "text/plain": [
       "('Apple', 'Orange', 'Grapes')"
      ]
     },
     "execution_count": 56,
     "metadata": {},
     "output_type": "execute_result"
    }
   ],
   "source": [
    "items_to_buy_3 [0:3]"
   ]
  },
  {
   "cell_type": "code",
   "execution_count": null,
   "id": "ce4d61b7",
   "metadata": {},
   "outputs": [
    {
     "ename": "TypeError",
     "evalue": "'tuple' object does not support item assignment",
     "output_type": "error",
     "traceback": [
      "\u001b[1;31m---------------------------------------------------------------------------\u001b[0m",
      "\u001b[1;31mTypeError\u001b[0m                                 Traceback (most recent call last)",
      "Cell \u001b[1;32mIn[57], line 1\u001b[0m\n\u001b[1;32m----> 1\u001b[0m \u001b[43mitems_to_buy_3\u001b[49m\u001b[43m[\u001b[49m\u001b[38;5;241;43m0\u001b[39;49m\u001b[43m]\u001b[49m \u001b[38;5;241m=\u001b[39m \u001b[38;5;124m'\u001b[39m\u001b[38;5;124mNuts\u001b[39m\u001b[38;5;124m'\u001b[39m\n",
      "\u001b[1;31mTypeError\u001b[0m: 'tuple' object does not support item assignment"
     ]
    }
   ],
   "source": [
    "items_to_buy_3[0] = 'Nuts'"
   ]
  },
  {
   "cell_type": "code",
   "execution_count": null,
   "id": "9a201ecb",
   "metadata": {},
   "outputs": [
    {
     "data": {
      "text/plain": [
       "0"
      ]
     },
     "execution_count": 58,
     "metadata": {},
     "output_type": "execute_result"
    }
   ],
   "source": [
    "items_to_buy_3.count(items_to_buy_3)"
   ]
  },
  {
   "cell_type": "code",
   "execution_count": null,
   "id": "0c932788",
   "metadata": {},
   "outputs": [
    {
     "data": {
      "text/plain": [
       "2"
      ]
     },
     "execution_count": 60,
     "metadata": {},
     "output_type": "execute_result"
    }
   ],
   "source": [
    "items_to_buy_3.count('Apple')"
   ]
  },
  {
   "cell_type": "code",
   "execution_count": null,
   "id": "1f6ea1e1",
   "metadata": {},
   "outputs": [
    {
     "data": {
      "text/plain": [
       "0"
      ]
     },
     "execution_count": 63,
     "metadata": {},
     "output_type": "execute_result"
    }
   ],
   "source": [
    "items_to_buy_3.index('Apple')"
   ]
  },
  {
   "cell_type": "code",
   "execution_count": null,
   "id": "2bbd9fff",
   "metadata": {},
   "outputs": [
    {
     "data": {
      "text/plain": [
       "2"
      ]
     },
     "execution_count": 64,
     "metadata": {},
     "output_type": "execute_result"
    }
   ],
   "source": [
    "items_to_buy_3.index('Grapes')"
   ]
  },
  {
   "cell_type": "code",
   "execution_count": null,
   "id": "63d150a1",
   "metadata": {},
   "outputs": [
    {
     "data": {
      "text/plain": [
       "('Apple', 'Orange', 'Grapes', 'Pomgrante', 'Apple', 6.75, 8, 9)"
      ]
     },
     "execution_count": 65,
     "metadata": {},
     "output_type": "execute_result"
    }
   ],
   "source": [
    "items_to_buy_3"
   ]
  },
  {
   "cell_type": "markdown",
   "id": "5ec8c0ba",
   "metadata": {},
   "source": [
    "## 4. Dictionary \n",
    "It's a Key:value pair\n",
    "* 2D\n",
    "* Heterogenous\n",
    "* Mutable\n",
    "* Indexing & Slicing is not possible\n",
    "* Don't create duplicate kye, but you can create duplicate values"
   ]
  },
  {
   "cell_type": "code",
   "execution_count": null,
   "id": "27acf072",
   "metadata": {},
   "outputs": [
    {
     "data": {
      "text/plain": [
       "{}"
      ]
     },
     "execution_count": 1,
     "metadata": {},
     "output_type": "execute_result"
    }
   ],
   "source": [
    "empty_cart_4 = {}\n",
    "empty_cart_4"
   ]
  },
  {
   "cell_type": "code",
   "execution_count": null,
   "id": "21191c08",
   "metadata": {},
   "outputs": [
    {
     "data": {
      "text/plain": [
       "dict"
      ]
     },
     "execution_count": 2,
     "metadata": {},
     "output_type": "execute_result"
    }
   ],
   "source": [
    "type(empty_cart_4)"
   ]
  },
  {
   "cell_type": "code",
   "execution_count": null,
   "id": "46b33ac9",
   "metadata": {},
   "outputs": [],
   "source": [
    "student_marks = {'Maths':89,\n",
    "                 'English':98,\n",
    "                 'Science':90}"
   ]
  },
  {
   "cell_type": "code",
   "execution_count": null,
   "id": "8cff8990",
   "metadata": {},
   "outputs": [
    {
     "data": {
      "text/plain": [
       "dict"
      ]
     },
     "execution_count": 7,
     "metadata": {},
     "output_type": "execute_result"
    }
   ],
   "source": [
    "type (student_marks)"
   ]
  },
  {
   "cell_type": "code",
   "execution_count": 15,
   "id": "9c99ffee",
   "metadata": {},
   "outputs": [
    {
     "data": {
      "text/plain": [
       "{'Potato': 4, 'Tomato': 2, 'Apple': 3.5}"
      ]
     },
     "execution_count": 15,
     "metadata": {},
     "output_type": "execute_result"
    }
   ],
   "source": [
    "items_to_buy_4 =  {'Potato': 5, 'Tomato': 2, 'Apple':3.5, 'Potato':4}\n",
    "items_to_buy_4"
   ]
  },
  {
   "cell_type": "code",
   "execution_count": 16,
   "id": "5717da33",
   "metadata": {},
   "outputs": [
    {
     "data": {
      "text/plain": [
       "dict"
      ]
     },
     "execution_count": 16,
     "metadata": {},
     "output_type": "execute_result"
    }
   ],
   "source": [
    "type(items_to_buy_4)"
   ]
  },
  {
   "cell_type": "code",
   "execution_count": 17,
   "id": "f4bad899",
   "metadata": {},
   "outputs": [
    {
     "ename": "KeyError",
     "evalue": "slice(2, 3, None)",
     "output_type": "error",
     "traceback": [
      "\u001b[1;31m---------------------------------------------------------------------------\u001b[0m",
      "\u001b[1;31mKeyError\u001b[0m                                  Traceback (most recent call last)",
      "Cell \u001b[1;32mIn[17], line 1\u001b[0m\n\u001b[1;32m----> 1\u001b[0m \u001b[43mitems_to_buy_4\u001b[49m\u001b[43m[\u001b[49m\u001b[38;5;241;43m2\u001b[39;49m\u001b[43m:\u001b[49m\u001b[38;5;241;43m3\u001b[39;49m\u001b[43m]\u001b[49m\n",
      "\u001b[1;31mKeyError\u001b[0m: slice(2, 3, None)"
     ]
    }
   ],
   "source": [
    "items_to_buy_4[2:3]"
   ]
  },
  {
   "cell_type": "code",
   "execution_count": 18,
   "id": "7a8681ba",
   "metadata": {},
   "outputs": [],
   "source": [
    "items_to_buy_4.clear()"
   ]
  },
  {
   "cell_type": "code",
   "execution_count": 19,
   "id": "acaa4a25",
   "metadata": {},
   "outputs": [
    {
     "data": {
      "text/plain": [
       "{}"
      ]
     },
     "execution_count": 19,
     "metadata": {},
     "output_type": "execute_result"
    }
   ],
   "source": [
    "items_to_buy_4"
   ]
  },
  {
   "cell_type": "code",
   "execution_count": 20,
   "id": "43127855",
   "metadata": {},
   "outputs": [
    {
     "data": {
      "text/plain": [
       "dict_keys([])"
      ]
     },
     "execution_count": 20,
     "metadata": {},
     "output_type": "execute_result"
    }
   ],
   "source": [
    "items_to_buy_4.keys()"
   ]
  },
  {
   "cell_type": "code",
   "execution_count": 21,
   "id": "04029341",
   "metadata": {},
   "outputs": [
    {
     "data": {
      "text/plain": [
       "dict_values([])"
      ]
     },
     "execution_count": 21,
     "metadata": {},
     "output_type": "execute_result"
    }
   ],
   "source": [
    "items_to_buy_4.values()"
   ]
  },
  {
   "cell_type": "code",
   "execution_count": 22,
   "id": "c3d41923",
   "metadata": {},
   "outputs": [],
   "source": [
    "import pandas as pd"
   ]
  },
  {
   "cell_type": "code",
   "execution_count": 23,
   "id": "33f2a6c8",
   "metadata": {},
   "outputs": [
    {
     "data": {
      "text/html": [
       "<div>\n",
       "<style scoped>\n",
       "    .dataframe tbody tr th:only-of-type {\n",
       "        vertical-align: middle;\n",
       "    }\n",
       "\n",
       "    .dataframe tbody tr th {\n",
       "        vertical-align: top;\n",
       "    }\n",
       "\n",
       "    .dataframe thead th {\n",
       "        text-align: right;\n",
       "    }\n",
       "</style>\n",
       "<table border=\"1\" class=\"dataframe\">\n",
       "  <thead>\n",
       "    <tr style=\"text-align: right;\">\n",
       "      <th></th>\n",
       "    </tr>\n",
       "  </thead>\n",
       "  <tbody>\n",
       "  </tbody>\n",
       "</table>\n",
       "</div>"
      ],
      "text/plain": [
       "Empty DataFrame\n",
       "Columns: []\n",
       "Index: []"
      ]
     },
     "execution_count": 23,
     "metadata": {},
     "output_type": "execute_result"
    }
   ],
   "source": [
    "pd.DataFrame(data=items_to_buy_4)"
   ]
  },
  {
   "cell_type": "code",
   "execution_count": 24,
   "id": "88022fb1",
   "metadata": {},
   "outputs": [],
   "source": [
    "maths_Student_marks = {'Name':['Mohith', 'Karthiga', 'Meera', 'sai', 'jai'],'Maths':[67,78,89,90,3], 'Sicence':[89,90,100,100,100]}"
   ]
  },
  {
   "cell_type": "code",
   "execution_count": 3,
   "id": "d28ef096",
   "metadata": {},
   "outputs": [
    {
     "data": {
      "text/plain": [
       "dict"
      ]
     },
     "execution_count": 3,
     "metadata": {},
     "output_type": "execute_result"
    }
   ],
   "source": [
    "type(maths_Student_marks)"
   ]
  },
  {
   "cell_type": "code",
   "execution_count": 11,
   "id": "0ffaf045",
   "metadata": {},
   "outputs": [
    {
     "data": {
      "text/html": [
       "<div>\n",
       "<style scoped>\n",
       "    .dataframe tbody tr th:only-of-type {\n",
       "        vertical-align: middle;\n",
       "    }\n",
       "\n",
       "    .dataframe tbody tr th {\n",
       "        vertical-align: top;\n",
       "    }\n",
       "\n",
       "    .dataframe thead th {\n",
       "        text-align: right;\n",
       "    }\n",
       "</style>\n",
       "<table border=\"1\" class=\"dataframe\">\n",
       "  <thead>\n",
       "    <tr style=\"text-align: right;\">\n",
       "      <th></th>\n",
       "      <th>Name</th>\n",
       "      <th>Maths</th>\n",
       "      <th>Sicence</th>\n",
       "    </tr>\n",
       "  </thead>\n",
       "  <tbody>\n",
       "    <tr>\n",
       "      <th>0</th>\n",
       "      <td>Mohith</td>\n",
       "      <td>67</td>\n",
       "      <td>89</td>\n",
       "    </tr>\n",
       "    <tr>\n",
       "      <th>1</th>\n",
       "      <td>Karthiga</td>\n",
       "      <td>78</td>\n",
       "      <td>90</td>\n",
       "    </tr>\n",
       "    <tr>\n",
       "      <th>2</th>\n",
       "      <td>Meera</td>\n",
       "      <td>89</td>\n",
       "      <td>100</td>\n",
       "    </tr>\n",
       "    <tr>\n",
       "      <th>3</th>\n",
       "      <td>sai</td>\n",
       "      <td>90</td>\n",
       "      <td>100</td>\n",
       "    </tr>\n",
       "    <tr>\n",
       "      <th>4</th>\n",
       "      <td>jai</td>\n",
       "      <td>3</td>\n",
       "      <td>100</td>\n",
       "    </tr>\n",
       "  </tbody>\n",
       "</table>\n",
       "</div>"
      ],
      "text/plain": [
       "       Name  Maths  Sicence\n",
       "0    Mohith     67       89\n",
       "1  Karthiga     78       90\n",
       "2     Meera     89      100\n",
       "3       sai     90      100\n",
       "4       jai      3      100"
      ]
     },
     "execution_count": 11,
     "metadata": {},
     "output_type": "execute_result"
    }
   ],
   "source": [
    "pd.DataFrame(data=maths_Student_marks)"
   ]
  },
  {
   "cell_type": "markdown",
   "id": "ba88a67a",
   "metadata": {},
   "source": [
    "## THE END!!!"
   ]
  },
  {
   "cell_type": "markdown",
   "id": "4e169a54",
   "metadata": {},
   "source": [
    "## Task:\n",
    "Create 3 dataFrames from Dictionary"
   ]
  },
  {
   "cell_type": "code",
   "execution_count": 25,
   "id": "bef3da69",
   "metadata": {},
   "outputs": [],
   "source": [
    "public_life_style = {'Name':['Mohamed','Azmi','Sai','Madan','Hakeem'],'Used':['Social media','Prayer','Eat', 'Rest','Sleep'],'Time':[5,2,6,10,8]}"
   ]
  },
  {
   "cell_type": "code",
   "execution_count": 26,
   "id": "7be07fab",
   "metadata": {},
   "outputs": [
    {
     "data": {
      "text/plain": [
       "dict"
      ]
     },
     "execution_count": 26,
     "metadata": {},
     "output_type": "execute_result"
    }
   ],
   "source": [
    "type(public_life_style)"
   ]
  },
  {
   "cell_type": "code",
   "execution_count": 4,
   "id": "0675069f",
   "metadata": {},
   "outputs": [],
   "source": [
    "import pandas as pd"
   ]
  },
  {
   "cell_type": "code",
   "execution_count": 28,
   "id": "5656dd33",
   "metadata": {},
   "outputs": [
    {
     "data": {
      "text/html": [
       "<div>\n",
       "<style scoped>\n",
       "    .dataframe tbody tr th:only-of-type {\n",
       "        vertical-align: middle;\n",
       "    }\n",
       "\n",
       "    .dataframe tbody tr th {\n",
       "        vertical-align: top;\n",
       "    }\n",
       "\n",
       "    .dataframe thead th {\n",
       "        text-align: right;\n",
       "    }\n",
       "</style>\n",
       "<table border=\"1\" class=\"dataframe\">\n",
       "  <thead>\n",
       "    <tr style=\"text-align: right;\">\n",
       "      <th></th>\n",
       "      <th>Name</th>\n",
       "      <th>Used</th>\n",
       "      <th>Time</th>\n",
       "    </tr>\n",
       "  </thead>\n",
       "  <tbody>\n",
       "    <tr>\n",
       "      <th>0</th>\n",
       "      <td>Mohamed</td>\n",
       "      <td>Social media</td>\n",
       "      <td>5</td>\n",
       "    </tr>\n",
       "    <tr>\n",
       "      <th>1</th>\n",
       "      <td>Azmi</td>\n",
       "      <td>Prayer</td>\n",
       "      <td>2</td>\n",
       "    </tr>\n",
       "    <tr>\n",
       "      <th>2</th>\n",
       "      <td>Sai</td>\n",
       "      <td>Eat</td>\n",
       "      <td>6</td>\n",
       "    </tr>\n",
       "    <tr>\n",
       "      <th>3</th>\n",
       "      <td>Madan</td>\n",
       "      <td>Rest</td>\n",
       "      <td>10</td>\n",
       "    </tr>\n",
       "    <tr>\n",
       "      <th>4</th>\n",
       "      <td>Hakeem</td>\n",
       "      <td>Sleep</td>\n",
       "      <td>8</td>\n",
       "    </tr>\n",
       "  </tbody>\n",
       "</table>\n",
       "</div>"
      ],
      "text/plain": [
       "      Name          Used  Time\n",
       "0  Mohamed  Social media     5\n",
       "1     Azmi        Prayer     2\n",
       "2      Sai           Eat     6\n",
       "3    Madan          Rest    10\n",
       "4   Hakeem         Sleep     8"
      ]
     },
     "execution_count": 28,
     "metadata": {},
     "output_type": "execute_result"
    }
   ],
   "source": [
    "pd.DataFrame(data=public_life_style)"
   ]
  },
  {
   "cell_type": "code",
   "execution_count": 3,
   "id": "150618e5",
   "metadata": {},
   "outputs": [],
   "source": [
    "fruit_shop = {'Apple': ['Banana', 'Strawberry', 'Grapes', 'Mango', 'Orange', 'Watermelon', 'Pineapple','Cherry'],\n",
    "              'Profit': [1050,800,400,1500,2000,2500,800,200],\n",
    "               'Loss': [500,200,100,350,400,250,100,50]}"
   ]
  },
  {
   "cell_type": "code",
   "execution_count": 5,
   "id": "fa9e36a5",
   "metadata": {},
   "outputs": [
    {
     "data": {
      "text/plain": [
       "dict"
      ]
     },
     "execution_count": 5,
     "metadata": {},
     "output_type": "execute_result"
    }
   ],
   "source": [
    "type(fruit_shop)"
   ]
  },
  {
   "cell_type": "code",
   "execution_count": null,
   "id": "a87d43ba",
   "metadata": {},
   "outputs": [
    {
     "data": {
      "text/html": [
       "<div>\n",
       "<style scoped>\n",
       "    .dataframe tbody tr th:only-of-type {\n",
       "        vertical-align: middle;\n",
       "    }\n",
       "\n",
       "    .dataframe tbody tr th {\n",
       "        vertical-align: top;\n",
       "    }\n",
       "\n",
       "    .dataframe thead th {\n",
       "        text-align: right;\n",
       "    }\n",
       "</style>\n",
       "<table border=\"1\" class=\"dataframe\">\n",
       "  <thead>\n",
       "    <tr style=\"text-align: right;\">\n",
       "      <th></th>\n",
       "      <th>Apple</th>\n",
       "      <th>Profit</th>\n",
       "      <th>Loss</th>\n",
       "    </tr>\n",
       "  </thead>\n",
       "  <tbody>\n",
       "    <tr>\n",
       "      <th>0</th>\n",
       "      <td>Banana</td>\n",
       "      <td>1050</td>\n",
       "      <td>500</td>\n",
       "    </tr>\n",
       "    <tr>\n",
       "      <th>1</th>\n",
       "      <td>Strawberry</td>\n",
       "      <td>800</td>\n",
       "      <td>200</td>\n",
       "    </tr>\n",
       "    <tr>\n",
       "      <th>2</th>\n",
       "      <td>Grapes</td>\n",
       "      <td>400</td>\n",
       "      <td>100</td>\n",
       "    </tr>\n",
       "    <tr>\n",
       "      <th>3</th>\n",
       "      <td>Mango</td>\n",
       "      <td>1500</td>\n",
       "      <td>350</td>\n",
       "    </tr>\n",
       "    <tr>\n",
       "      <th>4</th>\n",
       "      <td>Orange</td>\n",
       "      <td>2000</td>\n",
       "      <td>400</td>\n",
       "    </tr>\n",
       "    <tr>\n",
       "      <th>5</th>\n",
       "      <td>Watermelon</td>\n",
       "      <td>2500</td>\n",
       "      <td>250</td>\n",
       "    </tr>\n",
       "    <tr>\n",
       "      <th>6</th>\n",
       "      <td>Pineapple</td>\n",
       "      <td>800</td>\n",
       "      <td>100</td>\n",
       "    </tr>\n",
       "    <tr>\n",
       "      <th>7</th>\n",
       "      <td>Cherry</td>\n",
       "      <td>200</td>\n",
       "      <td>50</td>\n",
       "    </tr>\n",
       "  </tbody>\n",
       "</table>\n",
       "</div>"
      ],
      "text/plain": [
       "        Apple  Profit  Loss\n",
       "0      Banana    1050   500\n",
       "1  Strawberry     800   200\n",
       "2      Grapes     400   100\n",
       "3       Mango    1500   350\n",
       "4      Orange    2000   400\n",
       "5  Watermelon    2500   250\n",
       "6   Pineapple     800   100\n",
       "7      Cherry     200    50"
      ]
     },
     "execution_count": 7,
     "metadata": {},
     "output_type": "execute_result"
    }
   ],
   "source": [
    "pd.DataFrame(data=fruit_shop)"
   ]
  },
  {
   "cell_type": "code",
   "execution_count": 8,
   "id": "279012ab",
   "metadata": {},
   "outputs": [
    {
     "data": {
      "text/plain": [
       "dict_values([['Banana', 'Strawberry', 'Grapes', 'Mango', 'Orange', 'Watermelon', 'Pineapple', 'Cherry'], [1050, 800, 400, 1500, 2000, 2500, 800, 200], [500, 200, 100, 350, 400, 250, 100, 50]])"
      ]
     },
     "execution_count": 8,
     "metadata": {},
     "output_type": "execute_result"
    }
   ],
   "source": [
    "fruit_shop.values()"
   ]
  },
  {
   "cell_type": "code",
   "execution_count": 10,
   "id": "e03cd6ea",
   "metadata": {},
   "outputs": [
    {
     "data": {
      "text/plain": [
       "dict_keys(['Apple', 'Profit', 'Loss'])"
      ]
     },
     "execution_count": 10,
     "metadata": {},
     "output_type": "execute_result"
    }
   ],
   "source": [
    "fruit_shop.keys()"
   ]
  },
  {
   "cell_type": "markdown",
   "id": "5831d158",
   "metadata": {},
   "source": [
    "## THE END!!!"
   ]
  }
 ],
 "metadata": {
  "kernelspec": {
   "display_name": "Python 3",
   "language": "python",
   "name": "python3"
  },
  "language_info": {
   "codemirror_mode": {
    "name": "ipython",
    "version": 3
   },
   "file_extension": ".py",
   "mimetype": "text/x-python",
   "name": "python",
   "nbconvert_exporter": "python",
   "pygments_lexer": "ipython3",
   "version": "3.13.5"
  }
 },
 "nbformat": 4,
 "nbformat_minor": 5
}
