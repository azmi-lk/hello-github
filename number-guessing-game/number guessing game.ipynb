{
 "cells": [
  {
   "cell_type": "markdown",
   "id": "76cf43d1",
   "metadata": {},
   "source": [
    "# Number Guessing Game Level 1"
   ]
  },
  {
   "cell_type": "markdown",
   "id": "db1ba1fc",
   "metadata": {},
   "source": [
    "## Print if the user guessed number is right or not."
   ]
  },
  {
   "cell_type": "code",
   "execution_count": 1,
   "id": "44b4923c",
   "metadata": {},
   "outputs": [
    {
     "name": "stdout",
     "output_type": "stream",
     "text": [
      "Welcome back to our Data Science Course Series in Tamil! In this episode, we dive deep into Python programming basics with a fun and practical project: a Number Guessing Game 🧠🎲. This is a beginner-friendly tutorial where you’ll learn how to build a simple game while mastering core programming concepts.\n",
      "You’ll not only learn how to create an interactive game but also understand the core Python programming building blocks needed for Data Science and Machine Learning careers in 2025.\n"
     ]
    }
   ],
   "source": [
    "print('''Welcome back to our Data Science Course Series in Tamil! In this episode, we dive deep into Python programming basics with a fun and practical project: a Number Guessing Game 🧠🎲. This is a beginner-friendly tutorial where you’ll learn how to build a simple game while mastering core programming concepts.\n",
    "You’ll not only learn how to create an interactive game but also understand the core Python programming building blocks needed for Data Science and Machine Learning careers in 2025.''')"
   ]
  },
  {
   "cell_type": "code",
   "execution_count": null,
   "id": "781fe4a1",
   "metadata": {},
   "outputs": [],
   "source": [
    "secret_number = 56\n",
    "user_input = (input('Enter your guess: '))\n",
    "if (secret_number == user_input):\n",
    "    print ('Congaudlations! Your guess is right!')\n",
    "else:\n",
    "    print('Sorry! Your guess is wrong!')"
   ]
  },
  {
   "cell_type": "code",
   "execution_count": null,
   "id": "f3b27c2d",
   "metadata": {},
   "outputs": [],
   "source": [
    "user_input"
   ]
  },
  {
   "cell_type": "code",
   "execution_count": null,
   "id": "551ee881",
   "metadata": {},
   "outputs": [],
   "source": [
    "secret_number"
   ]
  },
  {
   "cell_type": "code",
   "execution_count": null,
   "id": "a5033955",
   "metadata": {},
   "outputs": [],
   "source": [
    "secret_number = 56\n",
    "user_input = int(input('Enter your guess: '))\n",
    "if (secret_number == user_input):\n",
    "    print ('Congaudlations! Your guess is right!')\n",
    "else:\n",
    "    print('Sorry! Your guess is wrong!')"
   ]
  },
  {
   "cell_type": "markdown",
   "id": "7d3b6dcf",
   "metadata": {},
   "source": [
    "## Level.2 Print if the user guessed number is right or not but with max of 7 Trials"
   ]
  },
  {
   "cell_type": "code",
   "execution_count": null,
   "id": "6c107207",
   "metadata": {},
   "outputs": [],
   "source": [
    "secret_number = 56\n",
    "for i in range (1,7):\n",
    "    user_input = int(input('Enter your guess: '))\n",
    "    if (secret_number == user_input):\n",
    "        print ('Congradulation! your guess is right')\n",
    "    else:\n",
    "        print('Sorry! Yor guess is wrong')"
   ]
  },
  {
   "cell_type": "markdown",
   "id": "42d7ea94",
   "metadata": {},
   "source": [
    "## Level.2 Print if the user guessed number is right or not but with max of 7 Trials Break"
   ]
  },
  {
   "cell_type": "code",
   "execution_count": null,
   "id": "a58701dc",
   "metadata": {},
   "outputs": [],
   "source": [
    "secret_number = 56\n",
    "for i in range (1,7):\n",
    "    user_input = int(input('Enter your guess: '))\n",
    "    if (secret_number == user_input):\n",
    "        print ('Congradulation! your guess is right')\n",
    "        break\n",
    "    else:\n",
    "        print('Sorry! Yor guess is wrong')"
   ]
  },
  {
   "cell_type": "markdown",
   "id": "b86525c1",
   "metadata": {},
   "source": [
    "## Level.2 Print if the user guessed number is right or not but with max of 7 Trials While loop\n"
   ]
  },
  {
   "cell_type": "code",
   "execution_count": null,
   "id": "8facfe4f",
   "metadata": {},
   "outputs": [],
   "source": [
    "secret_number = 56\n",
    "while True:\n",
    "    user_input = int(input('Enter your guess: '))\n",
    "    if (secret_number == user_input):\n",
    "        print ('Congradulation! your guess is right')\n",
    "        break\n",
    "    else:\n",
    "        print('Sorry! Yor guess is wrong')"
   ]
  },
  {
   "cell_type": "markdown",
   "id": "d4318b0d",
   "metadata": {},
   "source": [
    "## Level.3 Give multiple conditions\n",
    "1. User should enter the number 1-100 if it's entered wrong, the program should say, 'Invalid number'\n",
    "2. if the user gueesed number > secret number, should say 'Your number is greater then the secret number'\n",
    "3. if the user gueesed number <> secret number, should say 'Your number is Lesser then the secret number'"
   ]
  },
  {
   "cell_type": "code",
   "execution_count": null,
   "id": "5de111e6",
   "metadata": {},
   "outputs": [],
   "source": [
    "print ('Welcome to Number gueesing game!')\n",
    "print('Guess the number between 1-100')\n",
    "\n",
    "secret_number = 98\n",
    "\n",
    "for i in range (1,8):\n",
    "    user_input = int(input('Enter your guess:'))\n",
    "    if (user_input < 1 or user_input > 100):\n",
    "        print('Invalid Number! Please enter the number 1-100')\n",
    "    elif (user_input > secret_number):\n",
    "        print('Your gussed number is Higher!')\n",
    "    elif (user_input < secret_number):\n",
    "        print('Your Guessed number is Lesser!')\n",
    "    else:\n",
    "        print('Your GUESSED number is Correct!')\n",
    "        break"
   ]
  },
  {
   "cell_type": "markdown",
   "id": "f7688b98",
   "metadata": {},
   "source": [
    "## Level.3 Give multiple conditions \n",
    "1. Count the Attempts \n"
   ]
  },
  {
   "cell_type": "code",
   "execution_count": null,
   "id": "9f8e801e",
   "metadata": {},
   "outputs": [],
   "source": [
    "print ('Welcome to Number gueesing game!')\n",
    "print('Guess the number between 1-100')\n",
    "\n",
    "secret_number = 98\n",
    "\n",
    "for i in range (1,8):\n",
    "    user_input = int(input('Enter your guess:'))\n",
    "    if (user_input < 1 or user_input > 100):\n",
    "        print('Invalid Number! Please enter the number 1-100')\n",
    "    elif (user_input > secret_number):\n",
    "        print('Your gussed number is Higher!')\n",
    "    elif (user_input < secret_number):\n",
    "        print('Your Guessed number is Lesser!')\n",
    "    else:\n",
    "        print('Your GUESSED number is Correct!')\n",
    "        print(f'Congradulation, You Guessed the number {secret_number} in {i} Attempts')\n",
    "        break"
   ]
  },
  {
   "cell_type": "markdown",
   "id": "b6b1a6a0",
   "metadata": {},
   "source": [
    "## Level.4 Setting Multiple Conditions"
   ]
  },
  {
   "cell_type": "code",
   "execution_count": null,
   "id": "9f74f59f",
   "metadata": {},
   "outputs": [],
   "source": [
    "print ('Welcome to Number gueesing game!')\n",
    "print('Guess the number between 1-100')\n",
    "\n",
    "secret_number = 98\n",
    "\n",
    "for i in range (1,8):\n",
    "    user_input = int(input('Enter your guess:'))\n",
    "    if (user_input < 1 or user_input > 100):\n",
    "        print('Invalid Number! Please enter the number 1-100')\n",
    "    elif (user_input > secret_number):\n",
    "        print('Your gussed number is Higher!')\n",
    "    elif (user_input < secret_number):\n",
    "        print('Your Guessed number is Lesser!')\n",
    "    else:\n",
    "        print('Your GUESSED number is Correct!')\n",
    "        break\n",
    "if (secret_number == user_input):\n",
    "    print(f'Congradulation, You Guessed the number {secret_number} in {i} Attempts')\n",
    "else:\n",
    "    print('Sorry!!! All your Trials is exceeded. Tyr again!!')"
   ]
  },
  {
   "cell_type": "markdown",
   "id": "768c0c65",
   "metadata": {},
   "source": [
    "## Level.5 The Secret number should'nt be fixed, It Should be ramdom"
   ]
  },
  {
   "cell_type": "code",
   "execution_count": 12,
   "id": "32ab2ae2",
   "metadata": {},
   "outputs": [
    {
     "name": "stdout",
     "output_type": "stream",
     "text": [
      "Welcome to Number gueesing game!\n",
      "Guess the number between 1-100\n"
     ]
    },
    {
     "ename": "ValueError",
     "evalue": "invalid literal for int() with base 10: 'bdbf'",
     "output_type": "error",
     "traceback": [
      "\u001b[1;31m---------------------------------------------------------------------------\u001b[0m",
      "\u001b[1;31mValueError\u001b[0m                                Traceback (most recent call last)",
      "Cell \u001b[1;32mIn[12], line 9\u001b[0m\n\u001b[0;32m      6\u001b[0m secret_number \u001b[38;5;241m=\u001b[39m random\u001b[38;5;241m.\u001b[39mrandint(\u001b[38;5;241m1\u001b[39m,\u001b[38;5;241m100\u001b[39m)\n\u001b[0;32m      8\u001b[0m \u001b[38;5;28;01mfor\u001b[39;00m i \u001b[38;5;129;01min\u001b[39;00m \u001b[38;5;28mrange\u001b[39m (\u001b[38;5;241m1\u001b[39m,\u001b[38;5;241m8\u001b[39m):\n\u001b[1;32m----> 9\u001b[0m     user_input \u001b[38;5;241m=\u001b[39m \u001b[38;5;28;43mint\u001b[39;49m\u001b[43m(\u001b[49m\u001b[38;5;28;43minput\u001b[39;49m\u001b[43m(\u001b[49m\u001b[38;5;124;43m'\u001b[39;49m\u001b[38;5;124;43mEnter your guess:\u001b[39;49m\u001b[38;5;124;43m'\u001b[39;49m\u001b[43m)\u001b[49m\u001b[43m)\u001b[49m\n\u001b[0;32m     10\u001b[0m     \u001b[38;5;28;01mif\u001b[39;00m (user_input \u001b[38;5;241m<\u001b[39m \u001b[38;5;241m1\u001b[39m \u001b[38;5;129;01mor\u001b[39;00m user_input \u001b[38;5;241m>\u001b[39m \u001b[38;5;241m100\u001b[39m):\n\u001b[0;32m     11\u001b[0m         \u001b[38;5;28mprint\u001b[39m(\u001b[38;5;124m'\u001b[39m\u001b[38;5;124mInvalid Number! Please enter the number 1-100\u001b[39m\u001b[38;5;124m'\u001b[39m)\n",
      "\u001b[1;31mValueError\u001b[0m: invalid literal for int() with base 10: 'bdbf'"
     ]
    }
   ],
   "source": [
    "import random\n",
    "\n",
    "print ('Welcome to Number gueesing game!')\n",
    "print('Guess the number between 1-100')\n",
    "\n",
    "secret_number = random.randint(1,100)\n",
    "\n",
    "for i in range (1,8):\n",
    "    user_input = int(input('Enter your guess:'))\n",
    "    if (user_input < 1 or user_input > 100):\n",
    "        print('Invalid Number! Please enter the number 1-100')\n",
    "    elif (user_input > secret_number):\n",
    "        print('Your gussed number is Higher!')\n",
    "    elif (user_input < secret_number):\n",
    "        print('Your Guessed number is Lesser!')\n",
    "    else:\n",
    "        print('Your GUESSED number is Correct!')\n",
    "        break\n",
    "if (secret_number == user_input):\n",
    "    print(f'Congradulation, You Guessed the number {secret_number} in {i} Attempts')\n",
    "else:\n",
    "    print('Sorry!!! All your Trials is exceeded. Tyr again!!')"
   ]
  },
  {
   "cell_type": "code",
   "execution_count": null,
   "id": "aa3a6e3a",
   "metadata": {},
   "outputs": [],
   "source": [
    "import random"
   ]
  },
  {
   "cell_type": "code",
   "execution_count": null,
   "id": "42b39089",
   "metadata": {},
   "outputs": [],
   "source": [
    "random.randint(1,100)"
   ]
  },
  {
   "cell_type": "code",
   "execution_count": null,
   "id": "be4effd6",
   "metadata": {},
   "outputs": [],
   "source": [
    "secret_number"
   ]
  },
  {
   "cell_type": "markdown",
   "id": "252b3948",
   "metadata": {},
   "source": [
    "#### Level.5.2 take out the limits for try"
   ]
  },
  {
   "cell_type": "code",
   "execution_count": null,
   "id": "ab374094",
   "metadata": {},
   "outputs": [],
   "source": [
    "import random\n",
    "\n",
    "print ('Welcome to Number gueesing game!')\n",
    "print('Guess the number between 1-100')\n",
    "\n",
    "secret_number = random.randint(1,100)\n",
    "\n",
    "while True:\n",
    "    user_input = int(input('Enter your guess:'))\n",
    "    if (user_input < 1 or user_input > 100):\n",
    "        print('Invalid Number! Please enter the number 1-100')\n",
    "    elif (user_input > secret_number):\n",
    "        print('Your gussed number is Higher!')\n",
    "    elif (user_input < secret_number):\n",
    "        print('Your Guessed number is Lesser!')\n",
    "    else:\n",
    "        print('Your GUESSED number is Correct!')\n",
    "        break\n",
    "if (secret_number == user_input):\n",
    "    print(f'Congradulation, You Guessed the number {secret_number} in {i} Attempts')\n",
    "else:\n",
    "    print('Sorry!!! All your Trials is exceeded. Tyr again!!')"
   ]
  },
  {
   "cell_type": "markdown",
   "id": "08493432",
   "metadata": {},
   "source": [
    "## Level.6 How to handle Invalid characters or values"
   ]
  },
  {
   "cell_type": "code",
   "execution_count": 14,
   "id": "2094e20a",
   "metadata": {},
   "outputs": [
    {
     "name": "stdout",
     "output_type": "stream",
     "text": [
      "Welcome to Number gueesing game!\n",
      "Guess the number between 1-100\n",
      "Invalid Characters, Not recognized. Please enter the number between 1 - 100 tp play this game\n",
      "Invalid Characters, Not recognized. Please enter the number between 1 - 100 tp play this game\n",
      "Your Guessed number is Lesser!\n",
      "Your Guessed number is Lesser!\n",
      "Your gussed number is Higher!\n",
      "Your gussed number is Higher!\n",
      "Your gussed number is Higher!\n",
      "Sorry!!! All your Trials is exceeded. Tyr again!!\n"
     ]
    }
   ],
   "source": [
    "import random\n",
    "\n",
    "print ('Welcome to Number gueesing game!')\n",
    "print('Guess the number between 1-100')\n",
    "\n",
    "secret_number = random.randint(1,100)\n",
    "\n",
    "for i in range (1,8):\n",
    "    try:\n",
    "        user_input = int(input('Enter your guess:'))\n",
    "        if (user_input < 1 or user_input > 100):\n",
    "            print('Invalid Number! Please enter the number 1-100')\n",
    "        elif (user_input > secret_number):\n",
    "            print('Your gussed number is Higher!')\n",
    "        elif (user_input < secret_number):\n",
    "            print('Your Guessed number is Lesser!')\n",
    "        else:\n",
    "            print('Your GUESSED number is Correct!')\n",
    "            break\n",
    "    except ValueError:\n",
    "        print('Invalid Characters, Not recognized. Please enter the number between 1 - 100 tp play this game')\n",
    "if (secret_number == user_input):\n",
    "    print(f'Congradulation, You Guessed the number {secret_number} in {i} Attempts')\n",
    "else:\n",
    "    print('Sorry!!! All your Trials is exceeded. Tyr again!!')"
   ]
  },
  {
   "cell_type": "markdown",
   "id": "44633b80",
   "metadata": {},
   "source": [
    "## Level 7 - Take this program to run as a Function when it is called\n",
    "\n",
    "1. Step 1: Define a Function\n",
    "2. Step 2: Call the Function"
   ]
  },
  {
   "cell_type": "code",
   "execution_count": 4,
   "id": "a76ca519",
   "metadata": {},
   "outputs": [],
   "source": [
    "def number_guessing_game():\n",
    "\n",
    "    import random\n",
    "\n",
    "    print ('Welcome to Number gueesing game!')\n",
    "    print('Guess the number between 1-100')\n",
    "\n",
    "    secret_number = random.randint(1,100)\n",
    "\n",
    "    for i in range (1,8):\n",
    "        try:\n",
    "            user_input = int(input('Enter your guess:'))\n",
    "            if (user_input < 1 or user_input > 100):\n",
    "                print('Invalid Number! Please enter the number 1-100')\n",
    "            elif (user_input > secret_number):\n",
    "                print('Your gussed number is Higher!')\n",
    "            elif (user_input < secret_number):\n",
    "                print('Your Guessed number is Lesser!')\n",
    "            else:\n",
    "                print('Your GUESSED number is Correct!')\n",
    "                break\n",
    "        except ValueError:\n",
    "            print('Invalid Characters, Not recognized. Please enter the number between 1 - 100 tp play this game')\n",
    "    if (secret_number == user_input):\n",
    "        print(f'Congradulation, You Guessed the number {secret_number} in {i} Attempts')\n",
    "    else:\n",
    "        print('Sorry!!! All your Trials is exceeded. Tyr again!!')"
   ]
  },
  {
   "cell_type": "code",
   "execution_count": 6,
   "id": "b3759b21",
   "metadata": {},
   "outputs": [
    {
     "name": "stdout",
     "output_type": "stream",
     "text": [
      "Welcome to Number gueesing game!\n",
      "Guess the number between 1-100\n",
      "Your gussed number is Higher!\n",
      "Your Guessed number is Lesser!\n",
      "Your gussed number is Higher!\n",
      "Your gussed number is Higher!\n",
      "Your gussed number is Higher!\n",
      "Your gussed number is Higher!\n",
      "Your GUESSED number is Correct!\n",
      "Congradulation, You Guessed the number 33 in 7 Attempts\n"
     ]
    }
   ],
   "source": [
    "number_guessing_game()"
   ]
  }
 ],
 "metadata": {
  "kernelspec": {
   "display_name": "Python 3",
   "language": "python",
   "name": "python3"
  },
  "language_info": {
   "codemirror_mode": {
    "name": "ipython",
    "version": 3
   },
   "file_extension": ".py",
   "mimetype": "text/x-python",
   "name": "python",
   "nbconvert_exporter": "python",
   "pygments_lexer": "ipython3",
   "version": "3.13.0"
  }
 },
 "nbformat": 4,
 "nbformat_minor": 5
}
